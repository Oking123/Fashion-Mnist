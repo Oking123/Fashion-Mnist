{
 "cells": [
  {
   "cell_type": "code",
   "execution_count": 9,
   "metadata": {},
   "outputs": [],
   "source": [
    "import numpy as np\n",
    "import pandas as pd\n",
    "from sklearn.model_selection import train_test_split\n",
    "from sklearn.metrics import accuracy_score\n",
    "import matplotlib.pyplot as plt\n",
    "from sklearn.preprocessing import StandardScaler\n",
    "from sklearn.decomposition import PCA\n",
    "from sklearn import neighbors\n",
    "from sklearn.svm import SVC\n",
    "import time\n"
   ]
  },
  {
   "cell_type": "code",
   "execution_count": 10,
   "metadata": {},
   "outputs": [],
   "source": [
    "# load data\n",
    "data_mnist = pd.read_csv('train.csv', sep = ',')\n",
    "test_mnist = pd.read_csv('testX.csv', sep = ',')\n",
    "mnist_train_data = data_mnist.iloc[:,2:]\n",
    "mnist_train_label = data_mnist['Label']\n",
    "mnist_test_data = test_mnist.iloc[:, 1:]\n",
    "\n",
    "# standardlize\n",
    "scaler = StandardScaler()\n",
    "scaler.fit(mnist_train_data)\n",
    "mnist_train_data = scaler.transform(mnist_train_data)\n",
    "mnist_test_data = scaler.transform(mnist_test_data)\n",
    "# train, test split\n",
    "train_data, validation_data, train_target, validation_target = train_test_split(mnist_train_data, mnist_train_label, test_size = 0.2, random_state = 42)"
   ]
  },
  {
   "cell_type": "markdown",
   "metadata": {},
   "source": [
    "### first submission"
   ]
  },
  {
   "cell_type": "code",
   "execution_count": null,
   "metadata": {},
   "outputs": [],
   "source": [
    "def predict_submit(y_pred):\n",
    "    print(\"Id,Label\")\n",
    "    for i in range(10000):\n",
    "        print('{},{}'.format(i,y_pred[i]))\n",
    "              \n",
    "# PCA\n",
    "start = time.time_ns()\n",
    "pca = PCA(n_components=60)\n",
    "pca.fit(mnist_train_data)\n",
    "pca5 = pca.transform(mnist_train_data)\n",
    "pca_test = pca.transform(mnist_test_data)\n",
    "end = time.time_ns()\n",
    "time_PCA = (end - start)/1000000000\n",
    "print(\"PCA time:{}s\".format(time_PCA))\n",
    "# SVM\n",
    "from sklearn.svm import SVC\n",
    "\n",
    "start = time.time()\n",
    "\n",
    "clf = SVC(C=20,kernel = 'rbf')\n",
    "clf.fit(pca5,mnist_train_label)\n",
    "y_pred = clf.predict(pca_test)\n",
    "\n",
    "end = time.time()\n",
    "print(\"SVM time:{}s\".format(end-start))\n",
    "\n",
    "\n",
    "predict_submit(y_pred)"
   ]
  },
  {
   "cell_type": "markdown",
   "metadata": {},
   "source": [
    "PCA time:3.044503077s\n",
    "SVM time:196.98007655143738s\n",
    "\n",
    "second:pca component = 80\n",
    "PCA time:3.214057167s\n",
    "SVM time:318.45545625686646s"
   ]
  },
  {
   "cell_type": "markdown",
   "metadata": {},
   "source": [
    "### PCA + SVM('rbf') +component = 20"
   ]
  },
  {
   "cell_type": "code",
   "execution_count": 16,
   "metadata": {},
   "outputs": [],
   "source": [
    "# PCA\n",
    "start = time.time_ns()\n",
    "pca = PCA(n_components=20)\n",
    "pca.fit(train_data)\n",
    "pca5 = pca.transform(mnist_train_data)\n",
    "end = time.time_ns()\n",
    "time_PCA = (end - start)/1000000000\n",
    "print(\"PCA time:{}s\".format(time_PCA))"
   ]
  },
  {
   "cell_type": "code",
   "execution_count": null,
   "metadata": {},
   "outputs": [],
   "source": [
    "# SVM\n",
    "from sklearn.svm import SVC\n",
    "\n",
    "start = time.time()\n",
    "\n",
    "X_train, X_test, y_train, y_test = train_test_split(pca5, mnist_train_label, test_size=0.2, random_state = 42)\n",
    "svm_score = []\n",
    "n_svmlist =[0.1,0.5,1,2,5,10,20,50]\n",
    "for item in n_svmlist:\n",
    "    clf = SVC(C=item,kernel = 'rbf')\n",
    "    clf.fit(X_train,y_train)\n",
    "    y_pred = clf.predict(X_test)\n",
    "    accscore = accuracy_score(y_test,y_pred)\n",
    "    svm_score.append(accscore)\n",
    "\n",
    "end = time.time()\n",
    "print(\"SVM time:{}s\".format(end-start))\n",
    "\n",
    "for i in range(len(svm_score)):\n",
    "    print('C'+str(i)+':'+str(svm_score[i]))\n",
    "\n"
   ]
  },
  {
   "cell_type": "markdown",
   "metadata": {},
   "source": [
    "PCA time:2.843900887s\n",
    "SVM time:903.74139593234563s\n",
    "result:\n",
    "C0:0.82125\n",
    "C1:0.8559166666666667\n",
    "C2:0.86575\n",
    "C3:0.8725\n",
    "C4:0.879\n",
    "C5:0.8844166666666666\n",
    "C6:0.8859166666666667\n",
    "C7:0.8873333333333333"
   ]
  },
  {
   "cell_type": "markdown",
   "metadata": {},
   "source": [
    "### PCA + SVM('rbf') +component = 60"
   ]
  },
  {
   "cell_type": "code",
   "execution_count": null,
   "metadata": {},
   "outputs": [],
   "source": [
    "# PCA\n",
    "pca = PCA(n_components=60)\n",
    "pca.fit(train_data)\n",
    "pca5 = pca.transform(mnist_train_data)\n",
    "# SVM\n",
    "from sklearn.svm import SVC\n",
    "\n",
    "X_train, X_test, y_train, y_test = train_test_split(pca5, mnist_train_label, test_size=0.2, random_state = 42)\n",
    "svm_score = []\n",
    "n_svmlist =[0.1,0.5,1,2,5,10,20,50]\n",
    "for item in n_svmlist:\n",
    "    clf = SVC(C=item,kernel = 'rbf')\n",
    "    clf.fit(X_train,y_train)\n",
    "    y_pred = clf.predict(X_test)\n",
    "    accscore = accuracy_score(y_test,y_pred)\n",
    "    svm_score.append(accscore)\n",
    "for i in range(len(svm_score)):\n",
    "    print('C'+str(i)+':'+str(svm_score[i]))"
   ]
  },
  {
   "cell_type": "markdown",
   "metadata": {},
   "source": [
    "PCA time:3.021458392s\n",
    "SVM time:1604.82035893112595s\n",
    "C0:0.83275\n",
    "C1:0.8646666666666667\n",
    "C2:0.8725833333333334\n",
    "C3:0.8785\n",
    "C4:0.885\n",
    "C5:0.8880833333333333\n",
    "C6:0.8899166666666667\n",
    "C7:0.8895833333333333"
   ]
  },
  {
   "cell_type": "markdown",
   "metadata": {},
   "source": [
    "### PCA + SVM('rbf') +component = 80"
   ]
  },
  {
   "cell_type": "code",
   "execution_count": null,
   "metadata": {},
   "outputs": [],
   "source": [
    "# PCA\n",
    "start = time.time_ns()\n",
    "pca = PCA(n_components=80)\n",
    "pca.fit(train_data)\n",
    "pca5 = pca.transform(mnist_train_data)\n",
    "\n",
    "end = time.time_ns()\n",
    "\n",
    "time_PCA = (end - start)/1000000000\n",
    "print(\"PCA time:{}s\".format(time_PCA))\n",
    "# SVM\n",
    "from sklearn.svm import SVC\n",
    "start = time.time()\n",
    "\n",
    "X_train, X_test, y_train, y_test = train_test_split(pca5, mnist_train_label, test_size=0.2, random_state = 42)\n",
    "svm_score = []\n",
    "n_svmlist =[10,20,30,40,50,60]\n",
    "for item in n_svmlist:\n",
    "    clf = SVC(C=item,kernel = 'rbf')\n",
    "    clf.fit(X_train,y_train)\n",
    "    y_pred = clf.predict(X_test)\n",
    "    accscore = accuracy_score(y_test,y_pred)\n",
    "    svm_score.append(accscore)\n",
    "    \n",
    "end = time.time()\n",
    "print(\"SVM time:{}s\".format(end-start))\n",
    "for i in range(len(svm_score)):\n",
    "    print('C'+str(i)+':'+str(svm_score[i]))\n",
    "    "
   ]
  },
  {
   "cell_type": "markdown",
   "metadata": {},
   "source": [
    "PCA time: 3.263239075s\n",
    "SVM time: 2603.96125374761209s\n",
    "\n",
    "C0:0.8895\n",
    "C1:0.8913333333333333\n",
    "C2:0.8906666666666667\n",
    "C3:0.8915\n",
    "C4:0.8900833333333333\n",
    "C5:0.8885833333333333"
   ]
  },
  {
   "cell_type": "markdown",
   "metadata": {},
   "source": [
    "### PCA + SVM('poly')"
   ]
  },
  {
   "cell_type": "code",
   "execution_count": null,
   "metadata": {},
   "outputs": [],
   "source": [
    "# PCA\n",
    "pca = PCA(n_components=20)\n",
    "pca.fit(train_data)\n",
    "pca5 = pca.transform(mnist_train_data)"
   ]
  },
  {
   "cell_type": "code",
   "execution_count": 6,
   "metadata": {},
   "outputs": [
    {
     "ename": "NameError",
     "evalue": "name 'train_test_split' is not defined",
     "output_type": "error",
     "traceback": [
      "\u001b[0;31m---------------------------------------------------------------------------\u001b[0m",
      "\u001b[0;31mNameError\u001b[0m                                 Traceback (most recent call last)",
      "\u001b[0;32m<ipython-input-6-151b9925fc97>\u001b[0m in \u001b[0;36m<module>\u001b[0;34m\u001b[0m\n\u001b[1;32m      1\u001b[0m \u001b[0;31m# SVM\u001b[0m\u001b[0;34m\u001b[0m\u001b[0;34m\u001b[0m\u001b[0;34m\u001b[0m\u001b[0m\n\u001b[1;32m      2\u001b[0m \u001b[0;34m\u001b[0m\u001b[0m\n\u001b[0;32m----> 3\u001b[0;31m \u001b[0mX_train\u001b[0m\u001b[0;34m,\u001b[0m \u001b[0mX_test\u001b[0m\u001b[0;34m,\u001b[0m \u001b[0my_train\u001b[0m\u001b[0;34m,\u001b[0m \u001b[0my_test\u001b[0m \u001b[0;34m=\u001b[0m \u001b[0mtrain_test_split\u001b[0m\u001b[0;34m(\u001b[0m\u001b[0mpca5\u001b[0m\u001b[0;34m,\u001b[0m \u001b[0mmnist_train_label\u001b[0m\u001b[0;34m,\u001b[0m \u001b[0mtest_size\u001b[0m\u001b[0;34m=\u001b[0m\u001b[0;36m0.2\u001b[0m\u001b[0;34m,\u001b[0m \u001b[0mrandom_state\u001b[0m \u001b[0;34m=\u001b[0m \u001b[0;36m42\u001b[0m\u001b[0;34m)\u001b[0m\u001b[0;34m\u001b[0m\u001b[0;34m\u001b[0m\u001b[0m\n\u001b[0m\u001b[1;32m      4\u001b[0m \u001b[0msvm_score\u001b[0m \u001b[0;34m=\u001b[0m \u001b[0;34m[\u001b[0m\u001b[0;34m]\u001b[0m\u001b[0;34m\u001b[0m\u001b[0;34m\u001b[0m\u001b[0m\n\u001b[1;32m      5\u001b[0m \u001b[0mn_svmlist\u001b[0m \u001b[0;34m=\u001b[0m\u001b[0;34m[\u001b[0m\u001b[0;36m0.1\u001b[0m\u001b[0;34m,\u001b[0m\u001b[0;36m0.5\u001b[0m\u001b[0;34m,\u001b[0m\u001b[0;36m1\u001b[0m\u001b[0;34m,\u001b[0m\u001b[0;36m2\u001b[0m\u001b[0;34m,\u001b[0m\u001b[0;36m5\u001b[0m\u001b[0;34m,\u001b[0m\u001b[0;36m10\u001b[0m\u001b[0;34m,\u001b[0m\u001b[0;36m20\u001b[0m\u001b[0;34m,\u001b[0m\u001b[0;36m50\u001b[0m\u001b[0;34m]\u001b[0m\u001b[0;34m\u001b[0m\u001b[0;34m\u001b[0m\u001b[0m\n",
      "\u001b[0;31mNameError\u001b[0m: name 'train_test_split' is not defined"
     ]
    }
   ],
   "source": [
    "# SVM\n",
    "\n",
    "X_train, X_test, y_train, y_test = train_test_split(pca5, mnist_train_label, test_size=0.2, random_state = 42)\n",
    "svm_score = []\n",
    "n_svmlist =[0.1,0.5,1,2,5,10,20,50]\n",
    "for item in n_svmlist:\n",
    "    clf = SVC(C=item,kernel = 'poly', degree = 5)\n",
    "    clf.fit(X_train,y_train)\n",
    "    y_pred = clf.predict(X_test)\n",
    "    accscore = accuracy_score(y_test,y_pred)\n",
    "    svm_score.append(accscore)\n",
    "for i in range(len(svm_score)):\n",
    "    print('C'+str(i)+':'+str(svm_score[i]))"
   ]
  },
  {
   "cell_type": "markdown",
   "metadata": {},
   "source": [
    "N_component = 20\n",
    "PCA time:2.780412643s\n",
    "SVM time:1136.248127422310933s\n",
    "C0:0.7939166666666667\n",
    "C1:0.8340833333333333\n",
    "C2:0.84725\n",
    "C3:0.8563333333333333\n",
    "C4:0.8658333333333333\n",
    "C5:0.8713333333333333\n",
    "C6:0.8745833333333334\n",
    "C7:0.8735833333333334\n",
    "N_component = 60\n",
    "PCA time:3.044487963s\n",
    "SVM time:1576.30845123052343s\n",
    "C0:0.7900833333333334\n",
    "C1:0.8329166666666666\n",
    "C2:0.8478333333333333\n",
    "C3:0.857\n",
    "C4:0.8674166666666666\n",
    "C5:0.8746666666666667\n",
    "C6:0.8758333333333334\n",
    "C7:0.8775833333333334"
   ]
  },
  {
   "cell_type": "markdown",
   "metadata": {},
   "source": [
    "### LDA + SVM'rbf'"
   ]
  },
  {
   "cell_type": "code",
   "execution_count": null,
   "metadata": {},
   "outputs": [],
   "source": [
    "from sklearn.discriminant_analysis import LinearDiscriminantAnalysis\n",
    "\n",
    "start = time.time_ns()\n",
    "\n",
    "clf = LinearDiscriminantAnalysis()\n",
    "mnist_train_LDA = clf.fit_transform(train_data, train_target)\n",
    "mnist_validation_LDA = clf.transform(validation_data)\n",
    "\n",
    "end = time.time_ns()\n",
    "\n",
    "time_LDA = (end - start)/1000000000\n",
    "print(\"LDA time:{}s\".format(time_LDA))\n",
    "\n",
    "start = time.time()\n",
    "\n",
    "svm_score = []\n",
    "n_svmlist =[0.1,0.5,1,2,5,10,20,50]\n",
    "for item in n_svmlist:\n",
    "    clf = SVC(C=item,kernel = 'poly', degree = 5)\n",
    "    clf.fit(mnist_train_LDA,train_target)\n",
    "    y_pred = clf.predict(mnist_validation_LDA)\n",
    "    accscore = accuracy_score(validation_target,y_pred)\n",
    "    svm_score.append(accscore)\n",
    "    \n",
    "end = time.time()\n",
    "print(\"SVM time:{}s\".format(end-start))\n",
    "for i in range(len(svm_score)):\n",
    "    print('C'+str(i)+':'+str(svm_score[i]))"
   ]
  },
  {
   "cell_type": "markdown",
   "metadata": {},
   "source": [
    "LDA time:7.297011106s\n",
    "SVM time:583.882063627243s\n",
    "C0:0.6210833333333333\n",
    "C1:0.6350833333333333\n",
    "C2:0.63825\n",
    "C3:0.6404166666666666\n",
    "C4:0.6423333333333333\n",
    "C5:0.6430833333333333\n",
    "C6:0.64325\n",
    "C7:0.6435833333333333"
   ]
  },
  {
   "cell_type": "markdown",
   "metadata": {},
   "source": [
    "### t-SNE + SVM"
   ]
  },
  {
   "cell_type": "code",
   "execution_count": null,
   "metadata": {},
   "outputs": [],
   "source": [
    "from sklearn.manifold import TSNE\n",
    "\n",
    "# TSNE\n",
    "start = time.time_ns()\n",
    "features_TSNE = TSNE(n_components=3,random_state = 42).fit_transform(mnist_train_data)\n",
    "\n",
    "\n",
    "end = time.time_ns()\n",
    "\n",
    "time_tsne = (end - start)/1000000000\n",
    "print(\"t-SNE time:{}s\".format(time_tsne))\n",
    "\n",
    "#SVM\n",
    "from sklearn.svm import SVC\n",
    "start = time.time()\n",
    "\n",
    "X_train, X_test, y_train, y_test = train_test_split(features_TSNE, mnist_train_label, test_size=0.2, random_state = 42)\n",
    "svm_score = []\n",
    "n_svmlist =[20,30,40,50,60]\n",
    "for item in n_svmlist:\n",
    "    clf = SVC(C=item,kernel = 'rbf')\n",
    "    clf.fit(X_train,y_train)\n",
    "    y_pred = clf.predict(X_test)\n",
    "    accscore = accuracy_score(y_test,y_pred)\n",
    "    svm_score.append(accscore)\n",
    "\n",
    "end = time.time()\n",
    "print(\"SVM time:{}s\".format(end-start))\n",
    "for i in range(len(svm_score)):\n",
    "    print('C'+str(i)+':'+str(svm_score[i]))\n"
   ]
  },
  {
   "cell_type": "markdown",
   "metadata": {},
   "source": [
    "t-SNE time:6354.764056569s\n",
    "SVM time:229.06315207481384s\n",
    "C0:0.7746666666666666\n",
    "C1:0.77575\n",
    "C2:0.7765\n",
    "C3:0.777\n",
    "C4:0.7781666666666667"
   ]
  },
  {
   "cell_type": "markdown",
   "metadata": {},
   "source": [
    "### PCA + KNN component = 60"
   ]
  },
  {
   "cell_type": "code",
   "execution_count": 10,
   "metadata": {},
   "outputs": [],
   "source": [
    "# PCA\n",
    "pca = PCA(n_components=60)\n",
    "pca.fit(train_data)\n",
    "pca5 = pca.transform(mnist_train_data)"
   ]
  },
  {
   "cell_type": "code",
   "execution_count": 7,
   "metadata": {},
   "outputs": [
    {
     "ename": "NameError",
     "evalue": "name 'neighbors' is not defined",
     "output_type": "error",
     "traceback": [
      "\u001b[0;31m---------------------------------------------------------------------------\u001b[0m",
      "\u001b[0;31mNameError\u001b[0m                                 Traceback (most recent call last)",
      "\u001b[0;32m<ipython-input-7-56b47f24510e>\u001b[0m in \u001b[0;36m<module>\u001b[0;34m\u001b[0m\n\u001b[1;32m      3\u001b[0m \u001b[0mpca_knn_result\u001b[0m \u001b[0;34m=\u001b[0m \u001b[0;34m[\u001b[0m\u001b[0;34m]\u001b[0m\u001b[0;34m\u001b[0m\u001b[0;34m\u001b[0m\u001b[0m\n\u001b[1;32m      4\u001b[0m \u001b[0;32mfor\u001b[0m \u001b[0mk\u001b[0m \u001b[0;32min\u001b[0m \u001b[0mn_neighborslist\u001b[0m\u001b[0;34m:\u001b[0m\u001b[0;34m\u001b[0m\u001b[0;34m\u001b[0m\u001b[0m\n\u001b[0;32m----> 5\u001b[0;31m     \u001b[0mneigh\u001b[0m \u001b[0;34m=\u001b[0m \u001b[0mneighbors\u001b[0m\u001b[0;34m.\u001b[0m\u001b[0mKNeighborsClassifier\u001b[0m\u001b[0;34m(\u001b[0m\u001b[0mn_neighbors\u001b[0m\u001b[0;34m=\u001b[0m\u001b[0mk\u001b[0m\u001b[0;34m,\u001b[0m \u001b[0mweights\u001b[0m\u001b[0;34m=\u001b[0m\u001b[0;34m'distance'\u001b[0m\u001b[0;34m,\u001b[0m\u001b[0mp\u001b[0m\u001b[0;34m=\u001b[0m\u001b[0;36m1\u001b[0m\u001b[0;34m)\u001b[0m\u001b[0;34m\u001b[0m\u001b[0;34m\u001b[0m\u001b[0m\n\u001b[0m\u001b[1;32m      6\u001b[0m     \u001b[0mneigh\u001b[0m\u001b[0;34m.\u001b[0m\u001b[0mfit\u001b[0m\u001b[0;34m(\u001b[0m\u001b[0mtrain_data\u001b[0m\u001b[0;34m,\u001b[0m \u001b[0mtrain_target\u001b[0m\u001b[0;34m)\u001b[0m\u001b[0;34m\u001b[0m\u001b[0;34m\u001b[0m\u001b[0m\n\u001b[1;32m      7\u001b[0m     \u001b[0my_pred\u001b[0m \u001b[0;34m=\u001b[0m \u001b[0mneigh\u001b[0m\u001b[0;34m.\u001b[0m\u001b[0mpredict\u001b[0m\u001b[0;34m(\u001b[0m\u001b[0mvalidation_data\u001b[0m\u001b[0;34m)\u001b[0m\u001b[0;34m\u001b[0m\u001b[0;34m\u001b[0m\u001b[0m\n",
      "\u001b[0;31mNameError\u001b[0m: name 'neighbors' is not defined"
     ]
    }
   ],
   "source": [
    "# KNN\n",
    "n_neighborslist = list(range(1,51))\n",
    "pca_knn_result = []\n",
    "X_train, X_test, y_train, y_test = train_test_split(pca5, mnist_train_label, test_size=0.2, random_state = 42)\n",
    "for k in n_neighborslist:\n",
    "    neigh = neighbors.KNeighborsClassifier(n_neighbors=k, weights='distance',p=1)\n",
    "    neigh.fit(X_train,y_train)\n",
    "    y_pred = neigh.predict(X_test)\n",
    "    accscore = accuracy_score(y_test,y_pred)\n",
    "    pca_knn_result.append(accscore)\n",
    "for i in range(len(n_neighborslist)):\n",
    "    print(str(n_neighborslist[i]) + ': '+ str(pca_knn_result[i]))"
   ]
  },
  {
   "cell_type": "markdown",
   "metadata": {},
   "source": [
    "1: 0.80225\n",
    "2: 0.80225\n",
    "3: 0.824\n",
    "4: 0.8305\n",
    "5: 0.8329166666666666\n",
    "6: 0.8389166666666666\n",
    "7: 0.8401666666666666\n",
    "8: 0.8440833333333333\n",
    "9: 0.8423333333333334\n",
    "10: 0.84475\n",
    "11: 0.8450833333333333\n",
    "12: 0.8459166666666667\n",
    "13: 0.8460833333333333\n",
    "14: 0.8469166666666667\n",
    "15: 0.8446666666666667\n",
    "16: 0.8459166666666667\n",
    "17: 0.8453333333333334\n",
    "18: 0.84525\n",
    "19: 0.8444166666666667\n",
    "20: 0.8451666666666666\n",
    "21: 0.8436666666666667\n",
    "22: 0.84475\n",
    "23: 0.8426666666666667\n",
    "24: 0.8439166666666666\n",
    "25: 0.8430833333333333\n",
    "26: 0.8438333333333333\n",
    "27: 0.8416666666666667\n",
    "28: 0.8429166666666666\n",
    "29: 0.8410833333333333\n",
    "30: 0.84175\n",
    "31: 0.8406666666666667\n",
    "32: 0.84125\n",
    "33: 0.8404166666666667\n",
    "34: 0.8404166666666667\n",
    "35: 0.8393333333333334\n",
    "36: 0.8375833333333333\n",
    "37: 0.8373333333333334\n",
    "38: 0.8371666666666666\n",
    "39: 0.8365833333333333\n",
    "40: 0.8369166666666666\n",
    "41: 0.8364166666666667\n",
    "42: 0.8365\n",
    "43: 0.835\n",
    "44: 0.8349166666666666\n",
    "45: 0.8350833333333333\n",
    "46: 0.8354166666666667\n",
    "47: 0.8345\n",
    "48: 0.8348333333333333\n",
    "49: 0.8338333333333333\n",
    "50: 0.8333333333333334\n"
   ]
  },
  {
   "cell_type": "markdown",
   "metadata": {},
   "source": [
    "###  PCA +Random Forest component = 60"
   ]
  },
  {
   "cell_type": "code",
   "execution_count": null,
   "metadata": {},
   "outputs": [],
   "source": [
    "# PCA\n",
    "start = time.time_ns()\n",
    "pca = PCA(n_components=60)\n",
    "pca.fit(train_data)\n",
    "pca5 = pca.transform(mnist_train_data)\n",
    "\n",
    "end = time.time_ns()\n",
    "\n",
    "time_PCA = (end - start)/1000000000\n",
    "print(\"PCA time:{}s\".format(time_PCA))\n",
    "\n",
    "X_train, X_test, y_train, y_test = train_test_split(pca5, mnist_train_label, test_size=0.2, random_state = 42)\n",
    "\n",
    "from sklearn.ensemble import RandomForestClassifier,GradientBoostingClassifier\n",
    "start = time.time()\n",
    "number=[150,200,300,400]\n",
    "random_depth = [None,20,30,40]\n",
    "result = []\n",
    "for item_number in number:\n",
    "    temp = []\n",
    "    for depth in random_depth:\n",
    "        forest = RandomForestClassifier(n_estimators=item_number,max_depth = depth,random_state=42)\n",
    "        forest.fit(X_train,y_train)\n",
    "        y_pred=forest.predict(X_test)\n",
    "        accscore = accuracy_score(y_test,y_pred)\n",
    "        temp.append(accscore)\n",
    "    result.append(temp)\n",
    "end = time.time()\n",
    "print(\"RF time:{}s\".format(end-start))\n",
    "for i in range(len(result)):\n",
    "    for j in range(len(result[i])):\n",
    "        print('number = '+str(number[i])+', depth = '+str(random_depth[j])+': '+str(result[i][j]))"
   ]
  },
  {
   "cell_type": "markdown",
   "metadata": {},
   "source": [
    "PCA time:2.840043629s\n",
    "RF time:2376.7874476909637s\n",
    "number = 150, depth = None: 0.86975\n",
    "number = 150, depth = 20: 0.8654166666666666\n",
    "number = 150, depth = 30: 0.8671666666666666\n",
    "number = 150, depth = 40: 0.8703333333333333\n",
    "number = 200, depth = None: 0.8703333333333333\n",
    "number = 200, depth = 20: 0.8666666666666667\n",
    "number = 200, depth = 30: 0.8690833333333333\n",
    "number = 200, depth = 40: 0.8698333333333333\n",
    "number = 250, depth = None: 0.869\n",
    "number = 250, depth = 20: 0.8654166666666666\n",
    "number = 250, depth = 30: 0.8694166666666666\n",
    "number = 250, depth = 40: 0.8693333333333333\n",
    "number = 300, depth = None: 0.8709166666666667\n",
    "number = 300, depth = 20: 0.8674166666666666\n",
    "number = 300, depth = 30: 0.869\n",
    "number = 300, depth = 40: 0.8708333333333333\n",
    "number = 400, depth = None: 0.87075\n",
    "number = 400, depth = 20: 0.8670833333333333\n",
    "number = 400, depth = 30: 0.8703333333333333\n",
    "number = 400, depth = 40: 0.8699166666666667"
   ]
  },
  {
   "cell_type": "code",
   "execution_count": null,
   "metadata": {},
   "outputs": [],
   "source": [
    "# PCA\n",
    "start = time.time_ns()\n",
    "pca = PCA(n_components=60)\n",
    "pca.fit(train_data)\n",
    "pca5 = pca.transform(mnist_train_data)\n",
    "\n",
    "end = time.time_ns()\n",
    "\n",
    "time_PCA = (end - start)/1000000000\n",
    "print(\"PCA time:{}s\".format(time_PCA))\n",
    "\n",
    "X_train, X_test, y_train, y_test = train_test_split(pca5, mnist_train_label, test_size=0.2, random_state = 42)\n",
    "\n",
    "#XGBoost\n",
    "import xgboost as xgb\n",
    "\n",
    "start = time.time()\n",
    "\n",
    "xgb_model = xgb.XGBClassifier(learning_rate = 0.01, n_estimators = 5000, max_depth=15, reg_alpha = 0, min_child_weight=1, colsample_bytree = 0.8, subsample = 0.8)\n",
    "xgb_model.fit(X_train, y_train)\n",
    "\n",
    "y_pred = xgb_model.predict(X_test)\n",
    "accscore = accuracy_score(y_test,y_pred)\n",
    "end = time.time()\n",
    "print(\"XGBoost time:{}s\".format(end-start))\n",
    "print(accscore)"
   ]
  },
  {
   "cell_type": "markdown",
   "metadata": {},
   "source": [
    "PCA time:3.120038205s\n",
    "XGBoost time:5580.873775959015s\n",
    "0.8995833333333333"
   ]
  },
  {
   "cell_type": "code",
   "execution_count": null,
   "metadata": {},
   "outputs": [],
   "source": [
    "def predict_submit(y_pred):\n",
    "    print(\"Id,Label\")\n",
    "    for i in range(10000):\n",
    "        print('{},{}'.format(i,y_pred[i]))\n",
    "              \n",
    "# PCA\n",
    "start = time.time_ns()\n",
    "pca = PCA(n_components=60)\n",
    "pca.fit(mnist_train_data)\n",
    "pca5 = pca.transform(mnist_train_data)\n",
    "pca_test = pca.transform(mnist_test_data)\n",
    "end = time.time_ns()\n",
    "time_PCA = (end - start)/1000000000\n",
    "print(\"PCA time:{}s\".format(time_PCA))\n",
    "\n",
    "#XGBoost\n",
    "import xgboost as xgb\n",
    "\n",
    "start = time.time()\n",
    "\n",
    "xgb_model = xgb.XGBClassifier(learning_rate = 0.005, n_estimators = 15000, max_depth=16, reg_alpha = 0, min_child_weight=1, colsample_bytree = 0.8, subsample = 0.8)\n",
    "xgb_model.fit(pca5,mnist_train_label)\n",
    "y_pred = xgb_model.predict(pca_test)\n",
    "end = time.time()\n",
    "print(\"XGBoost time:{}s\".format(end-start))\n",
    "\n",
    "predict_submit(y_pred)"
   ]
  },
  {
   "cell_type": "markdown",
   "metadata": {},
   "source": [
    "depth = 15\n",
    "PCA time:3.017254544s\n",
    "XGBoost time:12131.038144350052s\n",
    "Accuracy:0.899803266\n",
    "\n",
    "depth = 16\n",
    "PCA time:3.071585728s\n",
    "XGBoost time:7587.361913442612s\n",
    "Accuracy:0.902023333\n",
    "\n",
    "depth = 18\n",
    "PCA time:3.071585728s\n",
    "XGBoost time:7587.361913442612s\n",
    "Accuracy:0.901006666"
   ]
  },
  {
   "cell_type": "code",
   "execution_count": 20,
   "metadata": {},
   "outputs": [
    {
     "data": {
      "image/png": "[encoded data removed]",
      "text/plain": [
       "<Figure size 432x288 with 1 Axes>"
      ]
     },
     "metadata": {
      "needs_background": "light"
     },
     "output_type": "display_data"
    }
   ],
   "source": [
    "from sklearn.preprocessing import label_binarize\n",
    "from sklearn.metrics import roc_curve, auc\n",
    "from sklearn.metrics import roc_auc_score\n",
    "\n",
    "# ROC plot\n",
    "def ROCplot(y_test,y_pred):\n",
    "    nb_classes = 5\n",
    "    Y_valid = label_binarize(y_test, classes = [i for i in range(nb_classes)])\n",
    "    Y_pred = label_binarize(y_pred, classes = [i for i in range(nb_classes)])\n",
    "    fpr = dict()\n",
    "    tpr = dict()\n",
    "    roc_auc = dict()\n",
    "    for i in range (nb_classes):\n",
    "        fpr[i], tpr[i], _ = roc_curve(Y_valid[:, i], Y_pred[:, i])\n",
    "        roc_auc[i] = auc(fpr[i], tpr[i])\n",
    "\n",
    "    fpr[\"micro\"], tpr[\"micro\"], _ = roc_curve(Y_valid.ravel(), Y_pred.ravel())\n",
    "    roc_auc[\"micro\"] = auc(fpr[\"micro\"], tpr[\"micro\"])\n",
    "    return fpr,tpr,roc_auc\n",
    "\n",
    "pca = PCA(n_components=60)\n",
    "pca.fit(mnist_train_data)\n",
    "pca5 = pca.transform(mnist_train_data)\n",
    "pca_test = pca.transform(mnist_test_data)\n",
    "\n",
    "X_train, X_test, y_train, y_test = train_test_split(pca5, mnist_train_label, test_size=0.2, random_state = 42)\n",
    "\n",
    "\n",
    "clf = SVC(C=10,kernel = 'rbf')\n",
    "clf.fit(X_train,y_train)\n",
    "y_pred_10 = clf.predict(X_test)\n",
    "svm_10 = ROCplot(y_test,y_pred_10)\n",
    "\n",
    "clf = SVC(C=20,kernel = 'rbf')\n",
    "clf.fit(X_train,y_train)\n",
    "y_pred_20 = clf.predict(X_test)\n",
    "svm_20 = ROCplot(y_test,y_pred_20)\n",
    "\n",
    "clf = SVC(C=30,kernel = 'rbf')\n",
    "clf.fit(X_train,y_train)\n",
    "y_pred_30 = clf.predict(X_test)\n",
    "svm_30 = ROCplot(y_test,y_pred_30)\n",
    "\n",
    "clf = SVC(C=40,kernel = 'rbf')\n",
    "clf.fit(X_train,y_train)\n",
    "y_pred_40 = clf.predict(X_test)\n",
    "svm_40 = ROCplot(y_test,y_pred_40)\n",
    "\n",
    "plt.figure()\n",
    "lw = 2\n",
    "plt.plot(svm_10[0][2], svm_10[1][2], color='darkorange',\n",
    "         lw=lw, label='C = 10 (area = %0.2f)' % svm_10[2][2])\n",
    "plt.plot(svm_20[0][2], svm_20[1][2], color='aqua',\n",
    "         lw=lw, label='C = 20 (area = %0.2f)' % svm_20[2][2])\n",
    "plt.plot(svm_30[0][2], svm_30[1][2], color='cornflowerblue',\n",
    "         lw=lw, label='C = 30 (area = %0.2f)' % svm_30[2][2])\n",
    "plt.plot(svm_40[0][2], svm_40[1][2], color='red',\n",
    "         lw=lw, label='C = 40 (area = %0.2f)' % svm_40[2][2])\n",
    "plt.plot([0, 1], [0, 1], color='navy', lw=lw, linestyle='--')\n",
    "plt.xlim([0.0, 1.0])\n",
    "plt.ylim([0.0, 1.05])\n",
    "plt.xlabel('False Positive Rate')\n",
    "plt.ylabel('True Positive Rate')\n",
    "plt.title('PCA+SVM')\n",
    "plt.legend(loc=\"lower right\")\n",
    "plt.show()"
   ]
  },
  {
   "cell_type": "code",
   "execution_count": 18,
   "metadata": {},
   "outputs": [
    {
     "data": {
      "text/plain": [
       "array([[2269,   91,   17,    1,    1],\n",
       "       [ 113, 2136,  135,   33,    7],\n",
       "       [  27,  187, 1949,  162,   39],\n",
       "       [   0,   41,  178, 2027,  121],\n",
       "       [   6,   12,   33,  136, 2279]])"
      ]
     },
     "execution_count": 18,
     "metadata": {},
     "output_type": "execute_result"
    }
   ],
   "source": [
    "from sklearn.metrics import confusion_matrix\n",
    "confusion_matrix(y_test,y_pred_10)"
   ]
  },
  {
   "cell_type": "code",
   "execution_count": 28,
   "metadata": {},
   "outputs": [
    {
     "data": {
      "text/plain": [
       "array([[2267,   94,   17,    0,    1],\n",
       "       [ 119, 2124,  139,   36,    6],\n",
       "       [  29,  174, 1979,  146,   36],\n",
       "       [   0,   37,  176, 2031,  123],\n",
       "       [   5,   10,   35,  128, 2288]])"
      ]
     },
     "execution_count": 28,
     "metadata": {},
     "output_type": "execute_result"
    }
   ],
   "source": [
    "confusion_matrix(y_test,y_pred_20)"
   ]
  },
  {
   "cell_type": "code",
   "execution_count": 37,
   "metadata": {},
   "outputs": [
    {
     "data": {
      "text/plain": [
       "0.8980284033001233"
      ]
     },
     "execution_count": 37,
     "metadata": {},
     "output_type": "execute_result"
    }
   ],
   "source": [
    "pred_test = pd.read_csv('XGBoostpred.csv', sep = ',')\n",
    "XGBoostpred = pred_test['pred_Label']\n",
    "XGBoosttest = pred_test['test_Label']\n",
    "confusion_matrix(XGBoosttest,XGBoostpred)\n",
    "from sklearn.metrics import precision_score\n",
    "precision_score(XGBoosttest,XGBoostpred, average='macro')\n",
    "from sklearn.metrics import recall_score\n",
    "recall_score(XGBoosttest,XGBoostpred,average='macro')\n",
    "from sklearn.metrics import f1_score\n",
    "f1_score(XGBoosttest,XGBoostpred, average='macro')"
   ]
  },
  {
   "cell_type": "code",
   "execution_count": 35,
   "metadata": {},
   "outputs": [
    {
     "data": {
      "image/png": "[encoded data removed]",
      "text/plain": [
       "<Figure size 432x288 with 1 Axes>"
      ]
     },
     "metadata": {
      "needs_background": "light"
     },
     "output_type": "display_data"
    }
   ],
   "source": [
    "XGBoostROC = ROCplot(XGBoosttest,XGBoostpred)\n",
    "plt.figure()\n",
    "lw = 2\n",
    "plt.plot(XGBoostROC[0][2], XGBoostROC[1][2], color='red',\n",
    "         lw=lw, label='(area = %0.2f)' % XGBoostROC[2][2])\n",
    "plt.plot([0, 1], [0, 1], color='navy', lw=lw, linestyle='--')\n",
    "plt.xlim([0.0, 1.0])\n",
    "plt.ylim([0.0, 1.05])\n",
    "plt.xlabel('False Positive Rate')\n",
    "plt.ylabel('True Positive Rate')\n",
    "plt.title('PCA+XGBoost')\n",
    "plt.legend(loc=\"lower right\")\n",
    "plt.show()"
   ]
  },
  {
   "cell_type": "code",
   "execution_count": null,
   "metadata": {},
   "outputs": [],
   "source": []
  }
 ],
 "metadata": {
  "kernelspec": {
   "display_name": "Python 3",
   "language": "python",
   "name": "python3"
  },
  "language_info": {
   "codemirror_mode": {
    "name": "ipython",
    "version": 3
   },
   "file_extension": ".py",
   "mimetype": "text/x-python",
   "name": "python",
   "nbconvert_exporter": "python",
   "pygments_lexer": "ipython3",
   "version": "3.8.1"
  }
 },
 "nbformat": 4,
 "nbformat_minor": 4
}
